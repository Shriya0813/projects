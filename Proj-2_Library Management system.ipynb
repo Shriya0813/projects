{
 "cells": [
  {
   "cell_type": "code",
   "execution_count": null,
   "id": "7371295a-715b-4f9f-9db9-60be039ba324",
   "metadata": {},
   "outputs": [
    {
     "name": "stdout",
     "output_type": "stream",
     "text": [
      "----------------------------------------------------------------------\n",
      "   Welcome to Readster Library - 'Navigating the World of Books'\n",
      "----------------------------------------------------------------------\n",
      "Enter your login details\n"
     ]
    },
    {
     "name": "stdin",
     "output_type": "stream",
     "text": [
      "Enter your name:  shriya\n",
      "Enter username:  Readster\n",
      "Enter password:  12345\n"
     ]
    },
    {
     "name": "stdout",
     "output_type": "stream",
     "text": [
      "login successful\n",
      "------------------------------\n",
      "Press 1 to borrow a book\n",
      "Press 2 to return a book\n",
      "Press 3 to display the details of borrowed books\n"
     ]
    },
    {
     "name": "stdin",
     "output_type": "stream",
     "text": [
      "Enter your choice between 1-3:  1\n"
     ]
    },
    {
     "name": "stdout",
     "output_type": "stream",
     "text": [
      "------------------------------\n",
      "Available Books:\n",
      "Maths - 12\n",
      "History - 7\n",
      "Phychology - 15\n",
      "English - 12\n",
      "Comic - 20\n",
      "------------------------------\n"
     ]
    },
    {
     "name": "stdin",
     "output_type": "stream",
     "text": [
      "Enter the name of the book you would like to borrow:  maths\n"
     ]
    },
    {
     "name": "stdout",
     "output_type": "stream",
     "text": [
      "Enter your login details\n"
     ]
    }
   ],
   "source": [
    "#Library Management system-\n",
    "\n",
    "print(\"-\"*70)\n",
    "print(\"   Welcome to Readster Library - 'Navigating the World of Books'\")\n",
    "print(\"-\"*70)\n",
    "\n",
    "available_books = {\"Maths\":12,\"History\":7,\"Phychology\":15,\"English\":12,\"Comic\":20}\n",
    "\n",
    "bb = {}\n",
    "username = \"Readster\" \n",
    "password = \"12345\"\n",
    "\n",
    "while True:\n",
    "    print(\"Enter your login details\")\n",
    "    name = input(\"Enter your name: \")\n",
    "    un = input(\"Enter username: \").capitalize()\n",
    "    if un == username:\n",
    "        ps = input(\"Enter password: \")\n",
    "        if ps == password:\n",
    "            print(\"login successful\")\n",
    "        else:\n",
    "            print(\"incorrect password\")\n",
    "            continue\n",
    "    else:\n",
    "        print(\"incorrect username\")\n",
    "        continue\n",
    "        \n",
    "    print(\"-\"*30)\n",
    "    print(\"\"\"Press 1 to borrow a book\n",
    "Press 2 to return a book\n",
    "Press 3 to display the details of borrowed books\"\"\")\n",
    "\n",
    "    choice = int(input(\"Enter your choice between 1-3: \"))\n",
    "    \n",
    "    if choice == 1:\n",
    "        print(\"-\"*30)\n",
    "        print(\"Available Books:\")\n",
    "        for i, j in available_books.items():\n",
    "            print(i, \"-\", j)\n",
    "        print(\"-\"*30)\n",
    "        book = input(\"Enter the name of the book you would like to borrow: \").capitalize()\n",
    "        if book in available_books and available_books[book] > 0:\n",
    "            available_books[book] -= 1\n",
    "            bb[name] = book \n",
    "        else:\n",
    "            print(\"Book not available\")\n",
    "        \n",
    "    elif choice == 2:\n",
    "        book = input(\"Enter the name of the book you want to return: \").capitalize()\n",
    "        if book in available_books:\n",
    "            available_books[book] += 1\n",
    "            if name in bb and bb[name] == book:\n",
    "                del bb[name]\n",
    "        else:\n",
    "            print(\"Invalid book name\")\n",
    "            \n",
    "    elif choice == 3:\n",
    "        if bb == {}:\n",
    "            print(\"No books are borrowed yet\")\n",
    "        else:\n",
    "            print(\"-\"*60)\n",
    "            print(\"Here are the details of borrowed books: \")\n",
    "            print(\"-\"*60)\n",
    "            print(\"Name\", \"-\", \"Book Borrowed\")\n",
    "            for i,j in bb.items():\n",
    "                print(i, (\"-\"), j)\n",
    "            print(\"-\"*30)\n",
    "        \n",
    "    else:\n",
    "        print(\"invalid input... try again\")\n",
    "        continue\n"
   ]
  }
 ],
 "metadata": {
  "kernelspec": {
   "display_name": "Python 3 (ipykernel)",
   "language": "python",
   "name": "python3"
  },
  "language_info": {
   "codemirror_mode": {
    "name": "ipython",
    "version": 3
   },
   "file_extension": ".py",
   "mimetype": "text/x-python",
   "name": "python",
   "nbconvert_exporter": "python",
   "pygments_lexer": "ipython3",
   "version": "3.11.5"
  }
 },
 "nbformat": 4,
 "nbformat_minor": 5
}
