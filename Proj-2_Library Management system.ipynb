{
 "cells": [
  {
   "cell_type": "code",
   "execution_count": 1,
   "id": "7371295a-715b-4f9f-9db9-60be039ba324",
   "metadata": {},
   "outputs": [
    {
     "name": "stdout",
     "output_type": "stream",
     "text": [
      "----------------------------------------------------------------------\n",
      "   Welcome to Readster Library - 'Navigating the World of Books'\n",
      "----------------------------------------------------------------------\n",
      "Enter your login details\n"
     ]
    },
    {
     "name": "stdin",
     "output_type": "stream",
     "text": [
      "Enter your name:  hsk\n",
      "Enter username:  Readster\n",
      "Enter password:  12345\n"
     ]
    },
    {
     "name": "stdout",
     "output_type": "stream",
     "text": [
      "login successful\n",
      "------------------------------\n",
      "Press 1 to borrow a book\n",
      "Press 2 to return a book\n",
      "Press 3 to display the details of borrowed books\n"
     ]
    },
    {
     "name": "stdin",
     "output_type": "stream",
     "text": [
      "Enter your choice between 1-3:  3\n"
     ]
    },
    {
     "name": "stdout",
     "output_type": "stream",
     "text": [
      "\n",
      "Here are the details of borrowed books: \n",
      "------------------------------------------------------------\n",
      "Name - Book Borrowed\n",
      "------------------------------\n",
