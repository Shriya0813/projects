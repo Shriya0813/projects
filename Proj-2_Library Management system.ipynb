{
 "cells": [
  {
   "cell_type": "code",
   "execution_count": 1,
   "id": "7371295a-715b-4f9f-9db9-60be039ba324",
   "metadata": {},
   "outputs": [
    {
     "name": "stdout",
     "output_type": "stream",
     "text": [
      "----------------------------------------------------------------------\n",
      "   Welcome to Readster Library - 'Navigating the World of Books'\n",
      "----------------------------------------------------------------------\n",
      "Enter your login details\n"
     ]
    },
    {
     "name": "stdin",
     "output_type": "stream",
     "text": [
      "Enter your name:  hsk\n",
      "Enter username:  Readster\n",
      "Enter password:  12345\n"
     ]
    },
    {
     "name": "stdout",
     "output_type": "stream",
     "text": [
      "login successful\n",
      "------------------------------\n",
      "Press 1 to borrow a book\n",
      "Press 2 to return a book\n",
      "Press 3 to display the details of borrowed books\n"
     ]
    },
    {
     "name": "stdin",
     "output_type": "stream",
     "text": [
      "Enter your choice between 1-3:  3\n"
     ]
    },
    {
     "name": "stdout",
     "output_type": "stream",
     "text": [
      "\n",
      "Here are the details of borrowed books: \n",
      "------------------------------------------------------------\n",
      "Name - Book Borrowed\n",
      "------------------------------\n",
      "Enter your login details\n"
     ]
    },
    {
     "ename": "KeyboardInterrupt",
     "evalue": "Interrupted by user",
     "output_type": "error",
     "traceback": [
      "\u001b[1;31m---------------------------------------------------------------------------\u001b[0m",
      "\u001b[1;31mKeyboardInterrupt\u001b[0m                         Traceback (most recent call last)",
      "Cell \u001b[1;32mIn[1], line 15\u001b[0m\n\u001b[0;32m     13\u001b[0m \u001b[38;5;28;01mwhile\u001b[39;00m \u001b[38;5;28;01mTrue\u001b[39;00m:\n\u001b[0;32m     14\u001b[0m     \u001b[38;5;28mprint\u001b[39m(\u001b[38;5;124m\"\u001b[39m\u001b[38;5;124mEnter your login details\u001b[39m\u001b[38;5;124m\"\u001b[39m)\n\u001b[1;32m---> 15\u001b[0m     name \u001b[38;5;241m=\u001b[39m \u001b[38;5;28;43minput\u001b[39;49m\u001b[43m(\u001b[49m\u001b[38;5;124;43m\"\u001b[39;49m\u001b[38;5;124;43mEnter your name: \u001b[39;49m\u001b[38;5;124;43m\"\u001b[39;49m\u001b[43m)\u001b[49m\n\u001b[0;32m     16\u001b[0m     un \u001b[38;5;241m=\u001b[39m \u001b[38;5;28minput\u001b[39m(\u001b[38;5;124m\"\u001b[39m\u001b[38;5;124mEnter username: \u001b[39m\u001b[38;5;124m\"\u001b[39m)\u001b[38;5;241m.\u001b[39mcapitalize()\n\u001b[0;32m     17\u001b[0m     \u001b[38;5;28;01mif\u001b[39;00m un \u001b[38;5;241m==\u001b[39m username:\n",
      "File \u001b[1;32m~\\AppData\\Local\\Programs\\Python\\Python311\\Lib\\site-packages\\ipykernel\\kernelbase.py:1202\u001b[0m, in \u001b[0;36mKernel.raw_input\u001b[1;34m(self, prompt)\u001b[0m\n\u001b[0;32m   1200\u001b[0m     msg \u001b[38;5;241m=\u001b[39m \u001b[38;5;124m\"\u001b[39m\u001b[38;5;124mraw_input was called, but this frontend does not support input requests.\u001b[39m\u001b[38;5;124m\"\u001b[39m\n\u001b[0;32m   1201\u001b[0m     \u001b[38;5;28;01mraise\u001b[39;00m StdinNotImplementedError(msg)\n\u001b[1;32m-> 1202\u001b[0m \u001b[38;5;28;01mreturn\u001b[39;00m \u001b[38;5;28;43mself\u001b[39;49m\u001b[38;5;241;43m.\u001b[39;49m\u001b[43m_input_request\u001b[49m\u001b[43m(\u001b[49m\n\u001b[0;32m   1203\u001b[0m \u001b[43m    \u001b[49m\u001b[38;5;28;43mstr\u001b[39;49m\u001b[43m(\u001b[49m\u001b[43mprompt\u001b[49m\u001b[43m)\u001b[49m\u001b[43m,\u001b[49m\n\u001b[0;32m   1204\u001b[0m \u001b[43m    \u001b[49m\u001b[38;5;28;43mself\u001b[39;49m\u001b[38;5;241;43m.\u001b[39;49m\u001b[43m_parent_ident\u001b[49m\u001b[43m[\u001b[49m\u001b[38;5;124;43m\"\u001b[39;49m\u001b[38;5;124;43mshell\u001b[39;49m\u001b[38;5;124;43m\"\u001b[39;49m\u001b[43m]\u001b[49m\u001b[43m,\u001b[49m\n\u001b[0;32m   1205\u001b[0m \u001b[43m    \u001b[49m\u001b[38;5;28;43mself\u001b[39;49m\u001b[38;5;241;43m.\u001b[39;49m\u001b[43mget_parent\u001b[49m\u001b[43m(\u001b[49m\u001b[38;5;124;43m\"\u001b[39;49m\u001b[38;5;124;43mshell\u001b[39;49m\u001b[38;5;124;43m\"\u001b[39;49m\u001b[43m)\u001b[49m\u001b[43m,\u001b[49m\n\u001b[0;32m   1206\u001b[0m \u001b[43m    \u001b[49m\u001b[43mpassword\u001b[49m\u001b[38;5;241;43m=\u001b[39;49m\u001b[38;5;28;43;01mFalse\u001b[39;49;00m\u001b[43m,\u001b[49m\n\u001b[0;32m   1207\u001b[0m \u001b[43m\u001b[49m\u001b[43m)\u001b[49m\n",
      "File \u001b[1;32m~\\AppData\\Local\\Programs\\Python\\Python311\\Lib\\site-packages\\ipykernel\\kernelbase.py:1245\u001b[0m, in \u001b[0;36mKernel._input_request\u001b[1;34m(self, prompt, ident, parent, password)\u001b[0m\n\u001b[0;32m   1242\u001b[0m \u001b[38;5;28;01mexcept\u001b[39;00m \u001b[38;5;167;01mKeyboardInterrupt\u001b[39;00m:\n\u001b[0;32m   1243\u001b[0m     \u001b[38;5;66;03m# re-raise KeyboardInterrupt, to truncate traceback\u001b[39;00m\n\u001b[0;32m   1244\u001b[0m     msg \u001b[38;5;241m=\u001b[39m \u001b[38;5;124m\"\u001b[39m\u001b[38;5;124mInterrupted by user\u001b[39m\u001b[38;5;124m\"\u001b[39m\n\u001b[1;32m-> 1245\u001b[0m     \u001b[38;5;28;01mraise\u001b[39;00m \u001b[38;5;167;01mKeyboardInterrupt\u001b[39;00m(msg) \u001b[38;5;28;01mfrom\u001b[39;00m \u001b[38;5;28;01mNone\u001b[39;00m\n\u001b[0;32m   1246\u001b[0m \u001b[38;5;28;01mexcept\u001b[39;00m \u001b[38;5;167;01mException\u001b[39;00m:\n\u001b[0;32m   1247\u001b[0m     \u001b[38;5;28mself\u001b[39m\u001b[38;5;241m.\u001b[39mlog\u001b[38;5;241m.\u001b[39mwarning(\u001b[38;5;124m\"\u001b[39m\u001b[38;5;124mInvalid Message:\u001b[39m\u001b[38;5;124m\"\u001b[39m, exc_info\u001b[38;5;241m=\u001b[39m\u001b[38;5;28;01mTrue\u001b[39;00m)\n",
      "\u001b[1;31mKeyboardInterrupt\u001b[0m: Interrupted by user"
     ]
    }
   ],
   "source": [
    "#Library Management system-\n",
    "\n",
    "print(\"-\"*70)\n",
    "print(\"   Welcome to Readster Library - 'Navigating the World of Books'\")\n",
    "print(\"-\"*70)\n",
    "\n",
    "available_books = {\"Maths\":12,\"History\":7,\"Phychology\":15,\"English\":12,\"Comic\":20}\n",
    "\n",
    "bb = {}\n",
    "username = \"Readster\" \n",
    "password = \"12345\"\n",
    "\n",
    "while True:\n",
    "    print(\"Enter your login details\")\n",
    "    name = input(\"Enter your name: \")\n",
    "    un = input(\"Enter username: \").capitalize()\n",
    "    if un == username:\n",
    "        ps = input(\"Enter password: \")\n",
    "        if ps == password:\n",
    "            print(\"login successful\")\n",
    "        else:\n",
    "            print(\"incorrect password\")\n",
    "            continue\n",
    "    else:\n",
    "        print(\"incorrect username\")\n",
    "        continue\n",
    "        \n",
    "    print(\"-\"*30)\n",
    "    print(\"\"\"Press 1 to borrow a book\n",
    "Press 2 to return a book\n",
    "Press 3 to display the details of borrowed books\"\"\")\n",
    "\n",
    "    choice = int(input(\"Enter your choice between 1-3: \"))\n",
    "    \n",
    "    if choice == 1:\n",
    "        print(\"-\"*30)\n",
    "        print(\"Available Books:\")\n",
    "        for i, j in available_books.items():\n",
    "            print(i, \"-\", j)\n",
    "        print(\"-\"*30)\n",
    "        book = input(\"Enter the name of the book you would like to borrow: \").capitalize()\n",
    "        if book in available_books and available_books[book] > 0:\n",
    "            available_books[book] -= 1\n",
    "            bb[name] = book \n",
    "        else:\n",
    "            print(\"Book not available\")\n",
    "        \n",
    "    elif choice == 2:\n",
    "        book = input(\"Enter the name of the book you want to return: \").capitalize()\n",
    "        if book in available_books:\n",
    "            available_books[book] += 1\n",
    "            if name in bb and bb[name] == book:\n",
    "                del bb[name]\n",
    "        else:\n",
    "            print(\"Invalid book name\")\n",
    "            \n",
    "    elif choice == 3:\n",
    "        if bb == {}:\n",
    "            print(\"No books are borrowed yet\")\n",
    "        else:\n",
    "            print(\"-\"*60)\n",
    "            print(\"Here are the details of borrowed books: \")\n",
    "            print(\"-\"*60)\n",
    "            print(\"Name\", \"-\", \"Book Borrowed\")\n",
    "            for i,j in bb.items():\n",
    "                print(i, (\"-\"), j)\n",
    "            print(\"-\"*30)\n",
    "        \n",
    "    else:\n",
    "        print(\"invalid input... try again\")\n",
    "        continue\n"
   ]
  },
  {
   "cell_type": "code",
   "execution_count": 60,
   "id": "3dd688a5-42f0-4818-8751-8455ee3979e4",
   "metadata": {},
   "outputs": [
    {
     "name": "stdout",
     "output_type": "stream",
     "text": [
      "66\n"
     ]
    }
   ],
   "source": [
    "available_books = {\"Maths\":12,\"History\":7,\"Phychology\":15,\"English\":12,\"Comic\":20}\n",
    "total = 0\n",
    "for i in available_books.values():\n",
    "    total += i\n",
    "print(total)"
   ]
  }
 ],
 "metadata": {
  "kernelspec": {
   "display_name": "Python 3 (ipykernel)",
   "language": "python",
   "name": "python3"
  },
  "language_info": {
   "codemirror_mode": {
    "name": "ipython",
    "version": 3
   },
   "file_extension": ".py",
   "mimetype": "text/x-python",
   "name": "python",
   "nbconvert_exporter": "python",
   "pygments_lexer": "ipython3",
   "version": "3.11.5"
  }
 },
 "nbformat": 4,
 "nbformat_minor": 5
}
